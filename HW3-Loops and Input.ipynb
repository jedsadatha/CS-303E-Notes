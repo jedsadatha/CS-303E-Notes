{
 "cells": [
  {
   "cell_type": "code",
   "execution_count": 1,
   "id": "d5d5354e",
   "metadata": {},
   "outputs": [
    {
     "name": "stdout",
     "output_type": "stream",
     "text": [
      "Favorite animal? Dog\n",
      "D\n",
      "o\n",
      "g\n"
     ]
    }
   ],
   "source": [
    "# Part 1\n",
    "animal = input('Favorite animal? ')\n",
    "for letter in animal:\n",
    "    print(letter)"
   ]
  },
  {
   "cell_type": "code",
   "execution_count": 2,
   "id": "c938846f",
   "metadata": {},
   "outputs": [
    {
     "name": "stdout",
     "output_type": "stream",
     "text": [
      "Pink a number: 20\n",
      "0 1 2 3 4 5 6 7 8 9 10 11 12 13 14 15 16 17 18 19 20 "
     ]
    }
   ],
   "source": [
    "# Part 2\n",
    "number = int(input('Pink a number: '))\n",
    "for x in range(0,number + 1):\n",
    "    print(x,end=' ')"
   ]
  },
  {
   "cell_type": "code",
   "execution_count": 3,
   "id": "5cd4d581",
   "metadata": {},
   "outputs": [
    {
     "name": "stdout",
     "output_type": "stream",
     "text": [
      "Pick an option of red, blue, or yellow: Yellow\n",
      "Ok, you picked Yellow!\n"
     ]
    }
   ],
   "source": [
    "# Part 3\n",
    "color = input('Pick an option of red, blue, or yellow: ')\n",
    "while(color.lower() != 'red' and color.lower() != 'blue' and color.lower() != 'yellow'):\n",
    "    print('Sorry that\\'s not an option!')\n",
    "    color = input('Again, pick an option of red, blue, or yellow: ')\n",
    "print('Ok, you picked ', color,'!', sep = '')"
   ]
  }
 ],
 "metadata": {
  "kernelspec": {
   "display_name": "Python 3 (ipykernel)",
   "language": "python",
   "name": "python3"
  },
  "language_info": {
   "codemirror_mode": {
    "name": "ipython",
    "version": 3
   },
   "file_extension": ".py",
   "mimetype": "text/x-python",
   "name": "python",
   "nbconvert_exporter": "python",
   "pygments_lexer": "ipython3",
   "version": "3.9.12"
  }
 },
 "nbformat": 4,
 "nbformat_minor": 5
}
